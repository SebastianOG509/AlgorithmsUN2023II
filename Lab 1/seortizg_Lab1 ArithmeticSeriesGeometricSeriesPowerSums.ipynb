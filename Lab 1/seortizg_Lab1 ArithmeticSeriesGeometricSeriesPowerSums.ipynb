{
  "nbformat": 4,
  "nbformat_minor": 0,
  "metadata": {
    "colab": {
      "provenance": []
    },
    "kernelspec": {
      "name": "python3",
      "display_name": "Python 3"
    }
  },
  "cells": [
    {
      "cell_type": "markdown",
      "source": [
        "# Name: Sebastian Ortiz Gonzalez\n",
        "# Number in the list : 18\n",
        "# Last digit of the number in the list: 8\n"
      ],
      "metadata": {
        "id": "xbAWD-q6yn-x"
      }
    },
    {
      "cell_type": "markdown",
      "metadata": {
        "id": "r4rXWI4gCN5B"
      },
      "source": [
        "# Arithmetic Series\n",
        "\n",
        "## Modified from Arithmetic Series -  [Wolfram MathWorld](https://mathworld.wolfram.com/ArithmeticSeries.html) - [wikipedia](https://en.wikipedia.org/wiki/Arithmetic_progression)\n",
        "\n",
        "\n",
        "An arithmetic sequence $\\{a_k\\}$ for $k=1, 2, ..., $ in which each term is computed from the previous one by adding (or subtracting) a constant $d$.\n",
        "\n",
        "\\begin{align*}\n",
        "a_1 & \\\\\n",
        "a_2 &\\ \\ =\\ \\ a_1 + d  \\\\\n",
        "a_3 &\\ \\ =\\ \\ a_2 + d \\ \\ =\\ \\ a_1 + 2d   \\\\\n",
        "a_4 &\\ \\ =\\ \\ a_3 + d \\ \\ =\\ \\ a_2 + 2d \\ \\ =\\ \\ a_1 + 3d  \\\\\n",
        "\\vdots\\\\\n",
        "a_k &\\ \\ =\\ \\ a_{(k-1)}+d \\ =\\  a_{(k-2)}+2d \\ =\\  \\ldots \\ =\\  \\ a_1+(k-1)d\n",
        "\\end{align*}\n",
        "\n",
        "Therefore, for $k>=1$,\n",
        "\n",
        "$$ a_k = a_1 + (k-1)d$$\n",
        "\n",
        "With $a_1$ and $d$ given.\n",
        "\n",
        "<br />\n",
        "\n",
        "The sequence of the partial sum of the first $n$ terms of a sequence is called a series, in the case of an arithemetic sequence the series is called an arithmetic series.\n",
        "\n",
        "If  $a_1= 1$ and $d=1$ we have, the simplest arithmnetic sequence,  the natural numbers sequence $\\{a_k = k \\}$ for  $k=1, 2, ..., $  i.e. the seuqnece\n",
        "$$1, 2, ...,$$\n",
        "The  corresponding series is\n",
        "$$\n",
        "S_n = 1 + 2+ \\ldots + (n-1)+ n = \\sum_{k=1}^n k\n",
        "$$\n",
        "can be calculated as a function of $n$.\n",
        "\n",
        "Assume that we allign one $S_{n-1}$ with a second  $S_{n-1}$ that have the terms adden reverse order and you add term to term, we have\n",
        "\\begin{array}{llclclclclc}\n",
        "  S_{n-1} &=& 1 &+& 2 &+& \\ldots &+& (n-2) &+& (n-1) \\\\\n",
        "  S_{n-1} &=& (n-1)  &+& (n-2)  &+& \\ldots   &+& 2   &+& 1 \\\\\n",
        "   \\hline \\\\\n",
        "   2S_{n-1} &=& n  &+& n  &+& \\ldots   &+& n   &+& n \\\\\n",
        "\\end{array}\n",
        "so\n",
        "$$  2S_{n-1} = (n-1)n $$\n",
        "then\n",
        "$$  S_{n-1} = \\frac{1}{2} (n-1)n$$\n",
        "therefore\n",
        "$$  S_{n} = \\frac{1}{2} n(n+1)$$\n",
        "\n",
        "\n",
        "\\begin{align*}\n",
        "S_n &= \\sum_{k=1}^n a_k\t\\\\\n",
        "    &= \\sum_{k=1}^n[a_1+(k-1)d]\t\t\\\\\n",
        "    &= na_1 + d \\sum_{k=1}^n(k-1)\t\\\\\n",
        "    &= na_1 + d \\sum_{k=0}^{n-1} k\t\\\\\n",
        "    &= na_1 + d \\sum_{k=1}^{n-1} k\t\\\\\n",
        "    &= na_1 +  \\frac{1}{2} d(n-1)n\\\\\n",
        "\\end{align*}\n",
        "so\n",
        "$$ S_n =  \\frac{1}{2} n[2 a_1 +d(n-1)].$$\n",
        "\n",
        "Note, however, that\n",
        "$$a_1+a_n=a_1+[a_1+d(n-1)]=2a_1+d(n-1),$$\n",
        "so\n",
        "$$S_n = \\frac{1}{2}n(a_1+a_n),$$\n",
        "\n",
        "\n",
        "or $n$ times the arithmetic mean of the first and last terms! This is the trick Gauss used as a schoolboy to solve the problem of summing the integers from $1$ to $100$ given as busy-work by his teacher. While his classmates toiled away doing the addition longhand, Gauss wrote a single number, the correct answer\n",
        "\n",
        "$$\\frac{1}{2}(100)(1+100)=50·101=5050$$\n",
        "on his slate (Burton 1989, pp. 80-81; Hoffman 1998, p. 207). When the answers were examined, Gauss's proved to be the only correct one.\n",
        "\n",
        "<br />\n",
        "\n",
        "If  the sequence starts at index $0$, $\\{a_k\\}$ for $ k=0, 1, 2, ..., $ we have\n",
        "\n",
        "\\begin{align*}\n",
        "a_0 & \\\\\n",
        "a_1 &\\ \\ =\\ \\ a_0 + d  \\\\\n",
        "a_2 &\\ \\ =\\ \\ a_1 + d \\ \\ =\\ \\ a_0 + 2d   \\\\\n",
        "a_3 &\\ \\ =\\ \\ a_2 + d \\ \\ =\\ \\ a_1 + 2d \\ \\ =\\ \\ a_0 + 3d  \\\\\n",
        "\\vdots\\\\\n",
        "a_k &\\ \\ =\\ \\ a_{(k-1)}+d \\ =\\  a_{(k-2)}+2d \\ =\\  \\ldots \\ = \\  \\ a_1+(k-1)d \\ \\ =\\ \\ a_0+kd\n",
        "\\end{align*}\n",
        "\n",
        "<br />\n",
        "for given   $a_0$ and $d$.\n",
        "\n",
        "In this case the sum of the terms between $0$ and $n$ of  the arithemnetic sequence  is then given by\n",
        "\\begin{align*}\n",
        "S_n &= \\sum_{k=0}^{n} a_k\t\\\\\n",
        "    &= \\sum_{k=0}^{n}[a_0+kd]\t\t\\\\\n",
        "    &= (n+1) a_0 + d \\sum_{k=0}^{n} k\t\\\\\n",
        "    &= (n+1) a_0 + d \\sum_{k=1}^{} k\t\\\\\n",
        "    &=(n+1) a_0+  \\frac{1}{2} dn(n+1) \\\\\n",
        "\\end{align*}\n",
        "so\n",
        "$$ S_n =  \\frac{1}{2} (n+1)[2 a_0 + dn].$$\n",
        "<br />\n",
        "$$ S_n =  \\frac{1}{2} (n+1)[a_0+ a_n].$$\n",
        "\n",
        "\n"
      ]
    },
    {
      "cell_type": "markdown",
      "metadata": {
        "id": "GfBh-QHRcods"
      },
      "source": [
        "### Code\n",
        "####  The simplest arithmetic sequence and series\n",
        "\n",
        "The simplest arithmnetic sequence is\n",
        "\n",
        "\n",
        "$$a_n = 1, 2, ...,$$"
      ]
    },
    {
      "cell_type": "markdown",
      "metadata": {
        "id": "n36eWqEXiktl"
      },
      "source": [
        "The following code plots the first $n = 15$ terms of the simplest arithmnetic sequence\n",
        "$$\\{a_n = n\\} \\text{ for } n =1,2,\\ldots  $$\n",
        "i.e\n",
        "$$\\{a_n = n\\} =1,2,\\ldots $$\n",
        "adn the corresponding terms of the simplest arithmnetic series\n",
        "$$  S_n = 1 + 2+ \\ldots + (n-1)+ n = \\sum_{k=1}^n k=  \\frac{1}{2} n(n+1)$$\n"
      ]
    },
    {
      "cell_type": "markdown",
      "metadata": {
        "id": "_VyGiunIZknK"
      },
      "source": [
        "Plot"
      ]
    },
    {
      "cell_type": "code",
      "metadata": {
        "colab": {
          "base_uri": "https://localhost:8080/",
          "height": 447
        },
        "id": "gx3Q4uo-ONCi",
        "outputId": "1247efff-2dee-4a68-8cc3-69f1d409bc10"
      },
      "source": [
        "import matplotlib.pyplot as plt\n",
        "import numpy as np\n",
        "\n",
        "n = 15\n",
        "S_n = 0\n",
        "Serie_S_n=[]\n",
        "Sequence_a_n =[]\n",
        "for i in range(1,n+1):\n",
        "  S_n = S_n + i\n",
        "  Serie_S_n.append(S_n)\n",
        "  Sequence_a_n.append(i)\n",
        "\n",
        "\n",
        "plt.plot(np.arange(1, n+1),Serie_S_n, color='black',label='Serie_S_n')\n",
        "plt.plot(np.arange(1, n+1), Sequence_a_n, color='red',label='Sequence_a_n')\n",
        "plt.xticks(np.arange(1, n+1))\n",
        "plt.legend()\n",
        "\n",
        "\n"
      ],
      "execution_count": null,
      "outputs": [
        {
          "output_type": "execute_result",
          "data": {
            "text/plain": [
              "<matplotlib.legend.Legend at 0x7bb6e0a8abf0>"
            ]
          },
          "metadata": {},
          "execution_count": 60
        },
        {
          "output_type": "display_data",
          "data": {
            "text/plain": [
              "<Figure size 640x480 with 1 Axes>"
            ],
            "image/png": "[encoded data removed]"
          },
          "metadata": {}
        }
      ]
    },
    {
      "cell_type": "code",
      "metadata": {
        "colab": {
          "base_uri": "https://localhost:8080/"
        },
        "id": "o2es6b4cysQk",
        "outputId": "62978108-ac5c-4f01-d99f-705eee2e9125"
      },
      "source": [
        "Sequence_a_n"
      ],
      "execution_count": null,
      "outputs": [
        {
          "output_type": "execute_result",
          "data": {
            "text/plain": [
              "[1, 2, 3, 4, 5, 6, 7, 8, 9, 10, 11, 12, 13, 14, 15]"
            ]
          },
          "metadata": {},
          "execution_count": 2
        }
      ]
    },
    {
      "cell_type": "code",
      "metadata": {
        "colab": {
          "base_uri": "https://localhost:8080/"
        },
        "id": "T2VeBOBZ0ibg",
        "outputId": "8a646d61-08fd-4296-cc50-8e6a60166abb"
      },
      "source": [
        "Serie_S_n"
      ],
      "execution_count": null,
      "outputs": [
        {
          "output_type": "execute_result",
          "data": {
            "text/plain": [
              "[1, 3, 6, 10, 15, 21, 28, 36, 45, 55, 66, 78, 91, 105, 120]"
            ]
          },
          "metadata": {},
          "execution_count": 3
        }
      ]
    },
    {
      "cell_type": "markdown",
      "metadata": {
        "id": "0ybfJdHxZGvW"
      },
      "source": [
        "The following code computes the  $n=10000000$  term of the airthmetic series\n",
        "$$  S_n = 1 + 2+ \\ldots + (n-1)+ n = \\sum_{k=1}^n =  \\frac{1}{2} n(n+1)$$"
      ]
    },
    {
      "cell_type": "code",
      "metadata": {
        "colab": {
          "base_uri": "https://localhost:8080/"
        },
        "id": "99xYHDQycnol",
        "outputId": "de9c57c2-ef8e-4e85-c13c-27aeed00baa8"
      },
      "source": [
        "n = 10000000\n",
        "S_n = 0\n",
        "for i in range(1,n+1):  # range(n+1) goes form 1 to n\n",
        "  S_n = S_n + i\n",
        "print(S_n)"
      ],
      "execution_count": null,
      "outputs": [
        {
          "output_type": "stream",
          "name": "stdout",
          "text": [
            "50000005000000\n"
          ]
        }
      ]
    },
    {
      "cell_type": "code",
      "metadata": {
        "colab": {
          "base_uri": "https://localhost:8080/"
        },
        "id": "RGCSuDGHeFwH",
        "outputId": "3b25e247-b161-41b4-fb49-46c6ab81fade"
      },
      "source": [
        "(1/2)*n*(n+1)"
      ],
      "execution_count": null,
      "outputs": [
        {
          "output_type": "execute_result",
          "data": {
            "text/plain": [
              "50000005000000.0"
            ]
          },
          "metadata": {},
          "execution_count": 62
        }
      ]
    },
    {
      "cell_type": "markdown",
      "metadata": {
        "id": "bg8zxAhcecpk"
      },
      "source": [
        "The following code computes the $n=10000000$ term of the airthmetic series\n",
        "$$ S_n  = \\sum_{k=1}^n a_k$$\n",
        "\n",
        "<br />\n",
        "for the airthmetic sequence $a_k = 10 + 3 (k-1) $ for $k=1,2,\\ldots$\n",
        "\n",
        "<br />\n",
        "$$ 10,13,16,19,21,\\ldots$$\n"
      ]
    },
    {
      "cell_type": "markdown",
      "metadata": {
        "id": "hg3ixQ3bZiVh"
      },
      "source": [
        "Plot"
      ]
    },
    {
      "cell_type": "code",
      "metadata": {
        "colab": {
          "base_uri": "https://localhost:8080/"
        },
        "id": "w8FP1XqSgnie",
        "outputId": "7e82b07d-f4b0-4874-ff4e-90c4a60298cb"
      },
      "source": [
        "n = 10000000\n",
        "a = 10\n",
        "d = 3 #\n",
        "S_n = 0\n",
        "for i in range(1,n+1):  # range(n+19 goes form 1 to n\n",
        "  a_n = a + d * (i-1)\n",
        "  S_n = S_n + a_n\n",
        "print(S_n)"
      ],
      "execution_count": null,
      "outputs": [
        {
          "output_type": "stream",
          "name": "stdout",
          "text": [
            "150000085000000\n"
          ]
        }
      ]
    },
    {
      "cell_type": "code",
      "metadata": {
        "colab": {
          "base_uri": "https://localhost:8080/"
        },
        "id": "g_38RfB_hgg2",
        "outputId": "bdbc7419-5b3f-4caf-bacb-b61426c6f82b"
      },
      "source": [
        "n*(2*a +d*(n-1))/2"
      ],
      "execution_count": null,
      "outputs": [
        {
          "output_type": "execute_result",
          "data": {
            "text/plain": [
              "150000085000000.0"
            ]
          },
          "metadata": {},
          "execution_count": 64
        }
      ]
    },
    {
      "cell_type": "code",
      "metadata": {
        "colab": {
          "base_uri": "https://localhost:8080/"
        },
        "id": "zS3qb_xE1u58",
        "outputId": "de3dff37-e797-4f75-a4d7-23e0c23feeb8"
      },
      "source": [
        "n*(a +a_n)/2"
      ],
      "execution_count": null,
      "outputs": [
        {
          "output_type": "execute_result",
          "data": {
            "text/plain": [
              "150000085000000.0"
            ]
          },
          "metadata": {},
          "execution_count": 65
        }
      ]
    },
    {
      "cell_type": "code",
      "metadata": {
        "colab": {
          "base_uri": "https://localhost:8080/",
          "height": 449
        },
        "id": "7qesKez70zub",
        "outputId": "4707592f-b4bd-4098-891e-11e7228f40b2"
      },
      "source": [
        "import matplotlib.pyplot as plt\n",
        "import numpy as np\n",
        "\n",
        "n = 20\n",
        "a = 10\n",
        "d = 3\n",
        "S_n = 0\n",
        "Serie_S_n=[]\n",
        "Sequence_a_n =[]\n",
        "for i in range(1,n+1):  # range(n+1) goes form 1 to n\n",
        "  a_n = a + d * (i-1)\n",
        "  S_n += a_n\n",
        "  Serie_S_n.append(S_n)\n",
        "  Sequence_a_n.append(a_n)\n",
        "\n",
        "plt.plot(np.arange(1, n+1),Serie_S_n, color='black',label='Serie_S_n')\n",
        "plt.plot(np.arange(1, n+1),Sequence_a_n, color='red',label='Sequence_a_n')\n",
        "plt.xticks(np.arange(1, n+1))\n",
        "plt.legend()"
      ],
      "execution_count": null,
      "outputs": [
        {
          "output_type": "execute_result",
          "data": {
            "text/plain": [
              "<matplotlib.legend.Legend at 0x7bb6d71a0a90>"
            ]
          },
          "metadata": {},
          "execution_count": 66
        },
        {
          "output_type": "display_data",
          "data": {
            "text/plain": [
              "<Figure size 640x480 with 1 Axes>"
            ],
            "image/png": "[encoded data removed]"
          },
          "metadata": {}
        }
      ]
    },
    {
      "cell_type": "markdown",
      "metadata": {
        "id": "r9qzONSlZq2q"
      },
      "source": [
        "## Your own example of arithmetic series $a_1$ is your list number and $d$ as the last digit of the your list number\n",
        "\n"
      ]
    },
    {
      "cell_type": "markdown",
      "metadata": {
        "id": "N-TxF1qxc-nk"
      },
      "source": []
    },
    {
      "cell_type": "code",
      "metadata": {
        "id": "SrJ_dPxS0pwP",
        "colab": {
          "base_uri": "https://localhost:8080/"
        },
        "outputId": "46e22fa9-475b-4280-a2d3-5e611fc0b611"
      },
      "source": [
        "\n",
        "n = 10000000\n",
        "a = 18\n",
        "d = 8\n",
        "S_n = 0\n",
        "for i in range(1, n + 1):\n",
        "  a_n = a + d * (i - 1)\n",
        "  S_n += a_n\n",
        "print(S_n)"
      ],
      "execution_count": 9,
      "outputs": [
        {
          "output_type": "stream",
          "name": "stdout",
          "text": [
            "400000140000000\n"
          ]
        }
      ]
    },
    {
      "cell_type": "code",
      "source": [
        "n*(2*a +d*(n-1))/2"
      ],
      "metadata": {
        "id": "QjJDx28sEV22",
        "colab": {
          "base_uri": "https://localhost:8080/"
        },
        "outputId": "4cd6ceaf-39fd-46cc-c497-b32057fb9d5f"
      },
      "execution_count": 10,
      "outputs": [
        {
          "output_type": "execute_result",
          "data": {
            "text/plain": [
              "400000140000000.0"
            ]
          },
          "metadata": {},
          "execution_count": 10
        }
      ]
    },
    {
      "cell_type": "code",
      "source": [
        "n*(a +a_n)/2"
      ],
      "metadata": {
        "id": "3l2IV6BOEVv2",
        "colab": {
          "base_uri": "https://localhost:8080/"
        },
        "outputId": "3e300ffc-db64-4f9e-a7d6-179679927466"
      },
      "execution_count": 11,
      "outputs": [
        {
          "output_type": "execute_result",
          "data": {
            "text/plain": [
              "400000140000000.0"
            ]
          },
          "metadata": {},
          "execution_count": 11
        }
      ]
    },
    {
      "cell_type": "code",
      "source": [
        "import matplotlib.pyplot as plt\n",
        "import numpy as np\n",
        "\n",
        "n = 40\n",
        "a = 18\n",
        "d = 8\n",
        "S_n = 0\n",
        "Serie_S_n=[]\n",
        "Sequence_a_n =[]\n",
        "for i in range(1,n+1):\n",
        "  a_n = a + d * (i-1)\n",
        "  S_n += a_n\n",
        "  Serie_S_n.append(S_n)\n",
        "  Sequence_a_n.append(a_n)\n",
        "\n",
        "plt.plot(np.arange(1, n+1),Serie_S_n, color='black',label='Serie_S_n')\n",
        "plt.plot(np.arange(1, n+1),Sequence_a_n, color='red',label='Sequence_a_n')\n",
        "plt.legend()"
      ],
      "metadata": {
        "id": "hWDNr6kHEVmm",
        "colab": {
          "base_uri": "https://localhost:8080/",
          "height": 447
        },
        "outputId": "66f6d304-ef8d-4337-b2e0-b8ddeb95e8f2"
      },
      "execution_count": 52,
      "outputs": [
        {
          "output_type": "execute_result",
          "data": {
            "text/plain": [
              "<matplotlib.legend.Legend at 0x7899e0de0b20>"
            ]
          },
          "metadata": {},
          "execution_count": 52
        },
        {
          "output_type": "display_data",
          "data": {
            "text/plain": [
              "<Figure size 640x480 with 1 Axes>"
            ],
            "image/png": "[encoded data removed]"
          },
          "metadata": {}
        }
      ]
    },
    {
      "cell_type": "markdown",
      "metadata": {
        "id": "AKWJ1F7hac8T"
      },
      "source": [
        "# Geometric Series\n",
        "\n",
        "## Modified from Geometric Series -  [Wolfram MathWorld](https://mathworld.wolfram.com/GeometricSeries.html) - [wikipedia](https://en.wikipedia.org/wiki/Geometric_series)\n"
      ]
    },
    {
      "cell_type": "markdown",
      "metadata": {
        "id": "W5zx_-nR81GI"
      },
      "source": [
        "An geometric series is the sum of a sequence $\\{a_k\\}$ for $k=1, 2, ..., $ in which each term is computed from the previous  by multipliying constant $r$ and starts with 1.\n",
        "\n",
        "\\begin{align*}\n",
        "a_0 &\\ \\ =\\ \\ r^0 \\ \\ =\\ \\ 1\\\\\n",
        "a_1 &\\ \\ =\\ \\ a_0 *  r \\ \\ =\\ \\  r\\\\\n",
        "a_2 &\\ \\ =\\ \\ a_1 * r\\ \\ =\\ \\ a_0 * r^2  \\ \\ =\\ \\ r^2 \\\\\n",
        "a_3 &\\ \\ =\\ \\ a_2 * r \\ \\ =\\ \\ a_0 * r^3 \\ \\ =\\ \\  r^3  \\\\\n",
        "a_4 &\\ \\ =\\ \\ a_3 * r\\ \\  =\\ \\ a_0 * r^4 \\ \\  =\\ \\ r^4  \\\\\n",
        "\\vdots\\\\\n",
        "a_k &\\ \\ =\\ \\ a_{(k-1)}* r \\ =\\   a_0 * r^k \\ \\  =\\ \\  r^k\n",
        "\\end{align*}\n",
        "\n",
        "The sum of the first $n$ terms  of  the geometric sequence (called an geometric serie)  is then given by\n",
        "$$\n",
        "\\begin{array}{ll}\n",
        "S_n &=  1 + r + r^2 + \\cdots + r^{n-1} +r^n \\\\\n",
        " &=  (1 + r + r^2 + \\cdots + r^{n-1} ) +r^n \\\\\n",
        " &= S_{n-1}  +r^n\n",
        "\\end{array}\n",
        "$$\n",
        "\n",
        "$$\n",
        "\\begin{array}{ll}\n",
        "S_n &=  1 + r + r^2 + \\cdots + r^{n-1} +r^n \\\\\n",
        " &=  1 + (r + r^2 + \\cdots + r^{n-1}  +r^n)  \\\\\n",
        " &=   1 + r (1 +  r  + r^2 + \\cdots + r^{n-1} )  \\\\\n",
        "  &=   1 + r   S_{n-1}\n",
        "\\end{array}\n",
        "$$\n",
        "\n",
        "Then\n",
        "$$\n",
        " S_{n-1}  +r^n =   1 + r   S_{n-1}\n",
        "$$\n",
        "\n",
        "Therefore\n",
        "$$\n",
        " S_{n-1} (1 -r)   +r^n =   1 - r^n\n",
        "$$\n",
        "\n",
        "$$\n",
        " S_{n-1}   =   \\frac{1 - r^n }{1 -r}\n",
        "$$\n",
        "\n",
        "$$\n",
        " S_{n}   =   \\frac{1 - r^{n+1} }{1 -r}  = \\frac{ r^{n+1} - 1}{r -1}\n",
        "$$\n"
      ]
    },
    {
      "cell_type": "markdown",
      "metadata": {
        "id": "CDUYfT8k8crr"
      },
      "source": [
        "## Nodes in Complete Binary Tree with $L=0,1,2,\\cdots , L-1$ levels\n",
        "\n",
        "![](https://raw.githubusercontent.com/gjhernandezp/algorithms/master/Lab7/ComBinTree.png)\n",
        "\n",
        "In a complete binary tree you have in ecah level $k =0,1,2,\\cdots $  $ 2^k $\n",
        "\n",
        "$$\n",
        "\\begin{array}{ll}\n",
        "\\text {Level } 0 \\rightarrow 2^0 = 1 \\text { node (root)} \\\\\n",
        "\\text {Level } 1 \\rightarrow 2^1 = 2 \\text { nodes} \\\\\n",
        "\\text {Level } 2 \\rightarrow 2^2 = 4 \\text { nodes} \\\\\n",
        "\\text {Level } 3 \\rightarrow 2^3 = 8 \\text { nodes} \\\\\n",
        "\\vdots\\\\\n",
        "\\text {Level } k \\rightarrow 2^k  \\text { nodes} \\\\\n",
        "\\end{array}\n",
        "$$\n",
        "\n",
        "nodes, with $l = 0,1,2, ... $ the level\n",
        "\n",
        "Total number of the complte tree with $L=0,1,2,\\cdots , L-1$ levels\n",
        "\n",
        "$$\n",
        "2^0 + 2^1 + 2^2 + \\cdots +2^{L-1}  = 1 + 2 + 4 + \\cdots +2^{L-1} = \\sum_{k=0}^{L-1} 2^k = \\frac{ 2^{L} - 1}{2 -1} = 2^{L} - 1\n",
        "$$"
      ]
    },
    {
      "cell_type": "markdown",
      "source": [
        "## Add the a geometric series with $r =2$ up to 10** 6 and verify with the formula.  "
      ],
      "metadata": {
        "id": "TWqL3ugpEpIN"
      }
    },
    {
      "cell_type": "code",
      "source": [
        "L = 20\n",
        "S_n = 0\n",
        "r = 2\n",
        "for i in range(L):\n",
        "  a_n = r**i\n",
        "  S_n += a_n\n",
        "print(S_n)"
      ],
      "metadata": {
        "id": "e3DmyWfVEtwV",
        "colab": {
          "base_uri": "https://localhost:8080/"
        },
        "outputId": "88041d7f-1849-4292-9747-1ecd4ccb7314"
      },
      "execution_count": 15,
      "outputs": [
        {
          "output_type": "stream",
          "name": "stdout",
          "text": [
            "1048575\n"
          ]
        }
      ]
    },
    {
      "cell_type": "code",
      "source": [
        "(2**L - 1)"
      ],
      "metadata": {
        "id": "DUntYdM9FFc8",
        "colab": {
          "base_uri": "https://localhost:8080/"
        },
        "outputId": "ed21315c-2c9a-44c6-f405-ec5202a2dd45"
      },
      "execution_count": null,
      "outputs": [
        {
          "output_type": "execute_result",
          "data": {
            "text/plain": [
              "1048575"
            ]
          },
          "metadata": {},
          "execution_count": 72
        }
      ]
    },
    {
      "cell_type": "markdown",
      "source": [
        "## Plot and  print the first 20 terms and the partial sums."
      ],
      "metadata": {
        "id": "PXfwrckTEuZF"
      }
    },
    {
      "cell_type": "code",
      "source": [
        "L = 20\n",
        "S_n = 0\n",
        "r = 2\n",
        "Serie_S_n3 = []\n",
        "Sequence_a_n3 = []\n",
        "\n",
        "for i in range(n):\n",
        "  a_n = r**i\n",
        "  S_n += a_n\n",
        "  Serie_S_n3.append(S_n)\n",
        "  Sequence_a_n3.append(a_n)\n",
        "print(S_n)\n",
        "print(2**n - 1)"
      ],
      "metadata": {
        "id": "YWdK15t3E2kN",
        "colab": {
          "base_uri": "https://localhost:8080/"
        },
        "outputId": "2e7ee708-9c42-4604-f0eb-07f6b27aadbf"
      },
      "execution_count": 20,
      "outputs": [
        {
          "output_type": "stream",
          "name": "stdout",
          "text": [
            "1073741823\n",
            "1073741823\n"
          ]
        }
      ]
    },
    {
      "cell_type": "code",
      "source": [
        "plt.plot(Serie_S_n3, color='black',label=r'Serie ')\n",
        "plt.plot(Sequence_a_n3, color='blue',label=r'Sequence')\n",
        "plt.legend()"
      ],
      "metadata": {
        "colab": {
          "base_uri": "https://localhost:8080/",
          "height": 462
        },
        "id": "6HevVE-YPQWe",
        "outputId": "eaae1ad6-58ba-40c1-bf15-2c9248b62c82"
      },
      "execution_count": 22,
      "outputs": [
        {
          "output_type": "execute_result",
          "data": {
            "text/plain": [
              "<matplotlib.legend.Legend at 0x7899e1203cd0>"
            ]
          },
          "metadata": {},
          "execution_count": 22
        },
        {
          "output_type": "display_data",
          "data": {
            "text/plain": [
              "<Figure size 640x480 with 1 Axes>"
            ],
            "image/png": "[encoded data removed]"
          },
          "metadata": {}
        }
      ]
    },
    {
      "cell_type": "code",
      "source": [
        "print(Sequence_a_n)"
      ],
      "metadata": {
        "colab": {
          "base_uri": "https://localhost:8080/"
        },
        "id": "wE6_xklyPRuq",
        "outputId": "88e55c33-f5d9-4d42-e32f-daa3c28c7c56"
      },
      "execution_count": 23,
      "outputs": [
        {
          "output_type": "stream",
          "name": "stdout",
          "text": [
            "[18, 26, 34, 42, 50, 58, 66, 74, 82, 90, 98, 106, 114, 122, 130, 138, 146, 154, 162, 170, 178, 186, 194, 202, 210, 218, 226, 234, 242, 250]\n"
          ]
        }
      ]
    },
    {
      "cell_type": "code",
      "source": [
        "print(Serie_S_n)"
      ],
      "metadata": {
        "colab": {
          "base_uri": "https://localhost:8080/"
        },
        "id": "4UsIBNm6PZkC",
        "outputId": "abfa086e-a2b5-4a83-a07a-4a7cdf5aa061"
      },
      "execution_count": 24,
      "outputs": [
        {
          "output_type": "stream",
          "name": "stdout",
          "text": [
            "[18, 44, 78, 120, 170, 228, 294, 368, 450, 540, 638, 744, 858, 980, 1110, 1248, 1394, 1548, 1710, 1880, 2058, 2244, 2438, 2640, 2850, 3068, 3294, 3528, 3770, 4020]\n"
          ]
        }
      ]
    },
    {
      "cell_type": "markdown",
      "metadata": {
        "id": "YiWlrhLZNMX9"
      },
      "source": [
        "## Your own examples of a geometric series with  $r =d+1$ with $d$  the last digit of the number in the list, add the series up to 10** 6 and verify with the formula.\n"
      ]
    },
    {
      "cell_type": "code",
      "metadata": {
        "id": "YvMkYU8UNOll",
        "colab": {
          "base_uri": "https://localhost:8080/"
        },
        "outputId": "47e78e7a-b6ba-448f-9329-49932cfc4318"
      },
      "source": [
        "L = 15\n",
        "r = 3\n",
        "S_n = 0\n",
        "for i in range(L):\n",
        "  a_n = r**i\n",
        "  S_n += a_n\n",
        "print(S_n)"
      ],
      "execution_count": 25,
      "outputs": [
        {
          "output_type": "stream",
          "name": "stdout",
          "text": [
            "7174453\n"
          ]
        }
      ]
    },
    {
      "cell_type": "code",
      "source": [
        "(((3**L - 1) / 2))"
      ],
      "metadata": {
        "id": "-HP3BafuFVYc",
        "colab": {
          "base_uri": "https://localhost:8080/"
        },
        "outputId": "2d7e71c9-6185-49a7-fa2b-d82928289da1"
      },
      "execution_count": 26,
      "outputs": [
        {
          "output_type": "execute_result",
          "data": {
            "text/plain": [
              "7174453.0"
            ]
          },
          "metadata": {},
          "execution_count": 26
        }
      ]
    },
    {
      "cell_type": "markdown",
      "source": [
        "##  Plot the first 20 terms and the partial sums."
      ],
      "metadata": {
        "id": "ZMYI3sNVEcfC"
      }
    },
    {
      "cell_type": "code",
      "source": [
        "L = 20\n",
        "r = 3\n",
        "S_n = 0\n",
        "Serie_S_n = []\n",
        "Sequence_a_n = []\n",
        "for i in range(L):\n",
        "  a_n = r**i\n",
        "  S_n += a_n\n",
        "  Serie_S_n.append(S_n)\n",
        "  Sequence_a_n.append(a_n)"
      ],
      "metadata": {
        "id": "RC-2dFAxEYIt"
      },
      "execution_count": 27,
      "outputs": []
    },
    {
      "cell_type": "code",
      "source": [
        "plt.plot(np.arange(1, L + 1),Serie_S_n, color='black',label='Serie_S_n')\n",
        "plt.plot(np.arange(1, L + 1),Sequence_a_n, color='red',label='Sequence_a_n')\n",
        "plt.xticks(np.arange(1, L + 1))\n",
        "plt.legend()"
      ],
      "metadata": {
        "colab": {
          "base_uri": "https://localhost:8080/",
          "height": 462
        },
        "id": "9ZTm-hWzbp0R",
        "outputId": "5789ab25-a6c0-4f5a-9aaa-cb3c22d761bc"
      },
      "execution_count": 28,
      "outputs": [
        {
          "output_type": "execute_result",
          "data": {
            "text/plain": [
              "<matplotlib.legend.Legend at 0x7899e1202020>"
            ]
          },
          "metadata": {},
          "execution_count": 28
        },
        {
          "output_type": "display_data",
          "data": {
            "text/plain": [
              "<Figure size 640x480 with 1 Axes>"
            ],
            "image/png": "[encoded data removed]"
          },
          "metadata": {}
        }
      ]
    },
    {
      "cell_type": "code",
      "source": [
        "print(Sequence_a_n)"
      ],
      "metadata": {
        "colab": {
          "base_uri": "https://localhost:8080/"
        },
        "id": "4W5LmJfVbtIP",
        "outputId": "5602a266-348c-4613-bb83-ae662d80c1f2"
      },
      "execution_count": 29,
      "outputs": [
        {
          "output_type": "stream",
          "name": "stdout",
          "text": [
            "[1, 3, 9, 27, 81, 243, 729, 2187, 6561, 19683, 59049, 177147, 531441, 1594323, 4782969, 14348907, 43046721, 129140163, 387420489, 1162261467]\n"
          ]
        }
      ]
    },
    {
      "cell_type": "code",
      "source": [
        "print(Serie_S_n)"
      ],
      "metadata": {
        "colab": {
          "base_uri": "https://localhost:8080/"
        },
        "id": "l9egb-Fmbvt1",
        "outputId": "6b6b6a68-8110-4c6c-a475-1b42f368f18b"
      },
      "execution_count": 30,
      "outputs": [
        {
          "output_type": "stream",
          "name": "stdout",
          "text": [
            "[1, 4, 13, 40, 121, 364, 1093, 3280, 9841, 29524, 88573, 265720, 797161, 2391484, 7174453, 21523360, 64570081, 193710244, 581130733, 1743392200]\n"
          ]
        }
      ]
    },
    {
      "cell_type": "markdown",
      "metadata": {
        "id": "Dd3RWDwJe2xD"
      },
      "source": [
        "## Zenon Arrow\n",
        "\n",
        "![](https://raw.githubusercontent.com/gjhernandezp/algorithms/master/Lab7/zeno-paradox-arrow.png)\n",
        "\n",
        "Achilles and the tortoise - https://en.wikipedia.org/wiki/Zeno%27s_paradoxes\n",
        "\n",
        "\n",
        "\n",
        "$$\n",
        "\\lim_{n\\rightarrow \\infty} \\left\\{\\left(\\frac{1}{2}\\right)^0 + \\left(\\frac{1}{2}\\right)^1 +\\left(\\frac{1}{2}\\right)^2 + \\cdots +\\left(\\frac{1}{2}\\right)^{n} \\right\\} = \\lim_{n\\rightarrow \\infty} \\left\\{ 1 +\\frac{1}{2} + \\frac{1}{4} + \\frac{1}{8} + \\cdots +\\frac{1}{2^{n}}\\right\\}  = \\lim_{n\\rightarrow \\infty} \\sum_{k=0}^{n} \\left(\\frac{1}{2}\\right)^k = \\lim_{n\\rightarrow \\infty} \\frac{ 1- \\left(\\frac{1}{2}\\right)^n  }{1 - \\left(\\frac{1}{2}\\right) } = \\frac{ 1}{1 - \\left(\\frac{1}{2}\\right)} = 2\n",
        "$$"
      ]
    },
    {
      "cell_type": "markdown",
      "metadata": {
        "id": "R-J4EekBNPkd"
      },
      "source": [
        "## Sum the  geometric with  $r=\\frac{1}{2}$ add the series up to 10**3 and verify with the formula.\n",
        "\n"
      ]
    },
    {
      "cell_type": "code",
      "metadata": {
        "id": "8xdBovY3NEW_",
        "colab": {
          "base_uri": "https://localhost:8080/"
        },
        "outputId": "2327827d-b6cf-4ba3-e999-338c73e2687c"
      },
      "source": [
        "n = 1000\n",
        "r = 1/2\n",
        "S_n = 0\n",
        "for i in range(n):\n",
        "  a_n = r**i\n",
        "  S_n += a_n\n",
        "print(S_n)"
      ],
      "execution_count": 31,
      "outputs": [
        {
          "output_type": "stream",
          "name": "stdout",
          "text": [
            "2.0\n"
          ]
        }
      ]
    },
    {
      "cell_type": "code",
      "source": [
        "((1 - (1/2)**n)/(1 - (1/2)))"
      ],
      "metadata": {
        "id": "3bjR3nkYFovN",
        "colab": {
          "base_uri": "https://localhost:8080/"
        },
        "outputId": "9656706b-cb5d-4c48-953e-4ee3f5ad0ad4"
      },
      "execution_count": 32,
      "outputs": [
        {
          "output_type": "execute_result",
          "data": {
            "text/plain": [
              "2.0"
            ]
          },
          "metadata": {},
          "execution_count": 32
        }
      ]
    },
    {
      "cell_type": "markdown",
      "source": [
        "## Plot and print the first 60 terms and the partial sums."
      ],
      "metadata": {
        "id": "5pp0GXjjFrgc"
      }
    },
    {
      "cell_type": "code",
      "source": [
        "n = 60\n",
        "r = 1/2\n",
        "S_n = 0\n",
        "Serie_S_n = []\n",
        "Sequence_a_n = []\n",
        "for i in range(n):\n",
        "  a_n = r**i\n",
        "  S_n += a_n\n",
        "  Serie_S_n.append(S_n)\n",
        "  Sequence_a_n.append(a_n)\n",
        "\n"
      ],
      "metadata": {
        "id": "BNEY8PfmFyM1"
      },
      "execution_count": 33,
      "outputs": []
    },
    {
      "cell_type": "code",
      "source": [
        "plt.plot(np.arange(1, n + 1),Serie_S_n, color='black',label='Serie_S_n')\n",
        "plt.plot(np.arange(1, n + 1),Sequence_a_n, color='red',label='Sequence_a_n')\n",
        "plt.xticks(np.arange(1, n + 1))\n",
        "plt.legend()"
      ],
      "metadata": {
        "colab": {
          "base_uri": "https://localhost:8080/",
          "height": 447
        },
        "id": "MI0vOUa0c9j2",
        "outputId": "35db5e11-3c61-4df9-a1e6-5f33fbfb3b6a"
      },
      "execution_count": 34,
      "outputs": [
        {
          "output_type": "execute_result",
          "data": {
            "text/plain": [
              "<matplotlib.legend.Legend at 0x7899e1202560>"
            ]
          },
          "metadata": {},
          "execution_count": 34
        },
        {
          "output_type": "display_data",
          "data": {
            "text/plain": [
              "<Figure size 640x480 with 1 Axes>"
            ],
            "image/png": "[encoded data removed]"
          },
          "metadata": {}
        }
      ]
    },
    {
      "cell_type": "code",
      "source": [
        "print(Sequence_a_n)"
      ],
      "metadata": {
        "colab": {
          "base_uri": "https://localhost:8080/"
        },
        "id": "cJpGFKvReM86",
        "outputId": "0e5c3573-35ff-4301-d376-8335e22a2186"
      },
      "execution_count": 35,
      "outputs": [
        {
          "output_type": "stream",
          "name": "stdout",
          "text": [
            "[1.0, 0.5, 0.25, 0.125, 0.0625, 0.03125, 0.015625, 0.0078125, 0.00390625, 0.001953125, 0.0009765625, 0.00048828125, 0.000244140625, 0.0001220703125, 6.103515625e-05, 3.0517578125e-05, 1.52587890625e-05, 7.62939453125e-06, 3.814697265625e-06, 1.9073486328125e-06, 9.5367431640625e-07, 4.76837158203125e-07, 2.384185791015625e-07, 1.1920928955078125e-07, 5.960464477539063e-08, 2.9802322387695312e-08, 1.4901161193847656e-08, 7.450580596923828e-09, 3.725290298461914e-09, 1.862645149230957e-09, 9.313225746154785e-10, 4.656612873077393e-10, 2.3283064365386963e-10, 1.1641532182693481e-10, 5.820766091346741e-11, 2.9103830456733704e-11, 1.4551915228366852e-11, 7.275957614183426e-12, 3.637978807091713e-12, 1.8189894035458565e-12, 9.094947017729282e-13, 4.547473508864641e-13, 2.2737367544323206e-13, 1.1368683772161603e-13, 5.684341886080802e-14, 2.842170943040401e-14, 1.4210854715202004e-14, 7.105427357601002e-15, 3.552713678800501e-15, 1.7763568394002505e-15, 8.881784197001252e-16, 4.440892098500626e-16, 2.220446049250313e-16, 1.1102230246251565e-16, 5.551115123125783e-17, 2.7755575615628914e-17, 1.3877787807814457e-17, 6.938893903907228e-18, 3.469446951953614e-18, 1.734723475976807e-18]\n"
          ]
        }
      ]
    },
    {
      "cell_type": "code",
      "source": [
        "print(Serie_S_n)"
      ],
      "metadata": {
        "colab": {
          "base_uri": "https://localhost:8080/"
        },
        "id": "3ckJ-NUceNPF",
        "outputId": "eb51077e-63ad-4806-d8f4-c65bca72e46a"
      },
      "execution_count": 36,
      "outputs": [
        {
          "output_type": "stream",
          "name": "stdout",
          "text": [
            "[1.0, 1.5, 1.75, 1.875, 1.9375, 1.96875, 1.984375, 1.9921875, 1.99609375, 1.998046875, 1.9990234375, 1.99951171875, 1.999755859375, 1.9998779296875, 1.99993896484375, 1.999969482421875, 1.9999847412109375, 1.9999923706054688, 1.9999961853027344, 1.9999980926513672, 1.9999990463256836, 1.9999995231628418, 1.999999761581421, 1.9999998807907104, 1.9999999403953552, 1.9999999701976776, 1.9999999850988388, 1.9999999925494194, 1.9999999962747097, 1.9999999981373549, 1.9999999990686774, 1.9999999995343387, 1.9999999997671694, 1.9999999998835847, 1.9999999999417923, 1.9999999999708962, 1.999999999985448, 1.999999999992724, 1.999999999996362, 1.999999999998181, 1.9999999999990905, 1.9999999999995453, 1.9999999999997726, 1.9999999999998863, 1.9999999999999432, 1.9999999999999716, 1.9999999999999858, 1.999999999999993, 1.9999999999999964, 1.9999999999999982, 1.9999999999999991, 1.9999999999999996, 1.9999999999999998, 2.0, 2.0, 2.0, 2.0, 2.0, 2.0, 2.0]\n"
          ]
        }
      ]
    },
    {
      "cell_type": "markdown",
      "source": [
        "## Your own examples of a geometric series with $r=\\frac{1}{d+1}$  with $d$ add the series up to 10**3 and verify with the formula."
      ],
      "metadata": {
        "id": "y9RQsrrjFx2k"
      }
    },
    {
      "cell_type": "code",
      "source": [
        "n = 1000\n",
        "r = 1/3\n",
        "S_n = 0\n",
        "for i in range(n):\n",
        "  a_n = r**i\n",
        "  S_n += a_n\n",
        "print(S_n)"
      ],
      "metadata": {
        "id": "CtWIsJxlGfGU",
        "colab": {
          "base_uri": "https://localhost:8080/"
        },
        "outputId": "5bb3b001-4091-42e8-cbc3-477945aeb1d6"
      },
      "execution_count": 37,
      "outputs": [
        {
          "output_type": "stream",
          "name": "stdout",
          "text": [
            "1.5\n"
          ]
        }
      ]
    },
    {
      "cell_type": "code",
      "source": [
        "((1 - (1/3)**n)/(1 - (1/3)))"
      ],
      "metadata": {
        "id": "EFbKmFMPGe_E",
        "colab": {
          "base_uri": "https://localhost:8080/"
        },
        "outputId": "0f6aa4ee-51d7-4054-f347-170616cb52cb"
      },
      "execution_count": 38,
      "outputs": [
        {
          "output_type": "execute_result",
          "data": {
            "text/plain": [
              "1.4999999999999998"
            ]
          },
          "metadata": {},
          "execution_count": 38
        }
      ]
    },
    {
      "cell_type": "markdown",
      "source": [
        "## Plot and print the first 60 terms and the partial sums."
      ],
      "metadata": {
        "id": "sjX-Z7cwGhUt"
      }
    },
    {
      "cell_type": "code",
      "source": [
        "n = 60\n",
        "r = 1/3\n",
        "S_n = 0\n",
        "Serie_S_n = []\n",
        "Sequence_a_n = []\n",
        "for i in range(n):\n",
        "  a_n = r**i\n",
        "  S_n += a_n\n",
        "  Serie_S_n.append(S_n)\n",
        "  Sequence_a_n.append(a_n)"
      ],
      "metadata": {
        "id": "tdyJ355mGjKG"
      },
      "execution_count": 39,
      "outputs": []
    },
    {
      "cell_type": "code",
      "source": [
        "plt.plot(np.arange(1, n + 1),Serie_S_n, color='black',label='Serie_S_n')\n",
        "plt.plot(np.arange(1, n + 1),Sequence_a_n, color='red',label='Sequence_a_n')\n",
        "plt.legend()"
      ],
      "metadata": {
        "colab": {
          "base_uri": "https://localhost:8080/",
          "height": 447
        },
        "id": "zmSKAauwe1-u",
        "outputId": "6f89e55f-f012-4ff6-c6e8-48d4a30440dd"
      },
      "execution_count": 41,
      "outputs": [
        {
          "output_type": "execute_result",
          "data": {
            "text/plain": [
              "<matplotlib.legend.Legend at 0x7899e1839090>"
            ]
          },
          "metadata": {},
          "execution_count": 41
        },
        {
          "output_type": "display_data",
          "data": {
            "text/plain": [
              "<Figure size 640x480 with 1 Axes>"
            ],
            "image/png": "[encoded data removed]"
          },
          "metadata": {}
        }
      ]
    },
    {
      "cell_type": "code",
      "source": [
        "print(Sequence_a_n)"
      ],
      "metadata": {
        "colab": {
          "base_uri": "https://localhost:8080/"
        },
        "id": "ojjYE3yUe9Al",
        "outputId": "4bb0b113-7c75-4a80-804b-6944f9bbc522"
      },
      "execution_count": 42,
      "outputs": [
        {
          "output_type": "stream",
          "name": "stdout",
          "text": [
            "[1.0, 0.3333333333333333, 0.1111111111111111, 0.03703703703703703, 0.012345679012345677, 0.004115226337448558, 0.0013717421124828527, 0.00045724737082761756, 0.0001524157902758725, 5.0805263425290837e-05, 1.693508780843028e-05, 5.645029269476759e-06, 1.8816764231589195e-06, 6.272254743863065e-07, 2.090751581287688e-07, 6.969171937625627e-08, 2.3230573125418753e-08, 7.743524375139585e-09, 2.5811747917131946e-09, 8.603915972377315e-10, 2.867971990792438e-10, 9.559906635974793e-11, 3.186635545324931e-11, 1.0622118484416435e-11, 3.540706161472145e-12, 1.1802353871573816e-12, 3.934117957191272e-13, 1.3113726523970905e-13, 4.3712421746569684e-14, 1.457080724885656e-14, 4.856935749618853e-15, 1.6189785832062843e-15, 5.396595277354281e-16, 1.7988650924514269e-16, 5.996216974838089e-17, 1.9987389916126963e-17, 6.662463305375653e-18, 2.2208211017918844e-18, 7.402737005972947e-19, 2.4675790019909823e-19, 8.22526333996994e-20, 2.741754446656647e-20, 9.139181488855488e-21, 3.046393829618496e-21, 1.015464609872832e-21, 3.3848820329094397e-22, 1.1282940109698132e-22, 3.7609800365660436e-23, 1.2536600121886812e-23, 4.1788667072956035e-24, 1.3929555690985346e-24, 4.643185230328448e-25, 1.5477284101094827e-25, 5.1590947003649416e-26, 1.7196982334549805e-26, 5.732327444849935e-27, 1.910775814949978e-27, 6.369252716499926e-28, 2.1230842388333086e-28, 7.076947462777696e-29]\n"
          ]
        }
      ]
    },
    {
      "cell_type": "code",
      "source": [
        "print(Serie_S_n)"
      ],
      "metadata": {
        "colab": {
          "base_uri": "https://localhost:8080/"
        },
        "id": "tJ1bOFfGfF1W",
        "outputId": "7ac72171-59a3-4efd-916d-1fe896850f99"
      },
      "execution_count": 43,
      "outputs": [
        {
          "output_type": "stream",
          "name": "stdout",
          "text": [
            "[1.0, 1.3333333333333333, 1.4444444444444444, 1.4814814814814814, 1.4938271604938271, 1.4979423868312758, 1.4993141289437586, 1.4997713763145861, 1.499923792104862, 1.4999745973682874, 1.499991532456096, 1.4999971774853655, 1.4999990591617887, 1.499999686387263, 1.4999998954624212, 1.4999999651541405, 1.4999999883847135, 1.4999999961282378, 1.4999999987094126, 1.4999999995698041, 1.4999999998566014, 1.4999999999522005, 1.4999999999840667, 1.499999999994689, 1.4999999999982296, 1.4999999999994098, 1.4999999999998033, 1.4999999999999345, 1.4999999999999782, 1.499999999999993, 1.4999999999999978, 1.4999999999999993, 1.4999999999999998, 1.5, 1.5, 1.5, 1.5, 1.5, 1.5, 1.5, 1.5, 1.5, 1.5, 1.5, 1.5, 1.5, 1.5, 1.5, 1.5, 1.5, 1.5, 1.5, 1.5, 1.5, 1.5, 1.5, 1.5, 1.5, 1.5, 1.5]\n"
          ]
        }
      ]
    },
    {
      "cell_type": "markdown",
      "metadata": {
        "id": "dh2ntBeoNQlN"
      },
      "source": [
        "# Power Sums Power Sums - [Wolfram MathWorld](https://mathworld.wolfram.com/PowerSum.html) - [wikipedia](https://en.wikipedia.org/wiki/Sums_of_powers) - [reserachgate](https://www.researchgate.net/publication/331933608_The_Powers_Sums_Bernoulli_Numbers_Bernoulli_Polynomials_Rethinked)\n",
        "\n"
      ]
    },
    {
      "cell_type": "markdown",
      "source": [
        "## Your own example of power sum with $p =$ last digit in the list $+ 1$, i.e., the sum $1^p+2^p+\\cdots + n^p$  series up to  $n=10^6$  and verify with the formula."
      ],
      "metadata": {
        "id": "kSYU0kwMCBXB"
      }
    },
    {
      "cell_type": "code",
      "metadata": {
        "id": "2PyxzzOZVIdl",
        "colab": {
          "base_uri": "https://localhost:8080/"
        },
        "outputId": "b8c36276-514e-4e0a-ed57-de6c7ed56bd8"
      },
      "source": [
        "n = 1000000\n",
        "p = 3\n",
        "S_n = 0\n",
        "for i in range(1, n + 1):\n",
        "  a_n = i**p\n",
        "  S_n += a_n\n",
        "print(S_n)"
      ],
      "execution_count": 44,
      "outputs": [
        {
          "output_type": "stream",
          "name": "stdout",
          "text": [
            "250000500000250000000000\n"
          ]
        }
      ]
    },
    {
      "cell_type": "markdown",
      "source": [
        "![image.png](data:image/png;base64,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)"
      ],
      "metadata": {
        "id": "ncEqJPdRgVf_"
      }
    },
    {
      "cell_type": "code",
      "source": [
        "1/4*((n**4)+2*(n**3)+(n**2))"
      ],
      "metadata": {
        "id": "VO_jmCYvGxYU",
        "colab": {
          "base_uri": "https://localhost:8080/"
        },
        "outputId": "8ea4a8b3-5dde-47d3-a68d-56bf7c94a854"
      },
      "execution_count": 45,
      "outputs": [
        {
          "output_type": "execute_result",
          "data": {
            "text/plain": [
              "2.5000050000025e+23"
            ]
          },
          "metadata": {},
          "execution_count": 45
        }
      ]
    },
    {
      "cell_type": "markdown",
      "source": [
        "![image.png](data:image/png;base64,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)"
      ],
      "metadata": {
        "id": "y71Z8Ucug6Yk"
      }
    },
    {
      "cell_type": "code",
      "source": [
        "1/4*((n**2)*((n+1)**2))"
      ],
      "metadata": {
        "colab": {
          "base_uri": "https://localhost:8080/"
        },
        "id": "P2nYcLgyg56F",
        "outputId": "2ea69967-f222-486d-9a55-d5d8f535101f"
      },
      "execution_count": 46,
      "outputs": [
        {
          "output_type": "execute_result",
          "data": {
            "text/plain": [
              "2.5000050000025e+23"
            ]
          },
          "metadata": {},
          "execution_count": 46
        }
      ]
    },
    {
      "cell_type": "markdown",
      "source": [
        "## Plot the firtst 20 terms and the partial sums"
      ],
      "metadata": {
        "id": "bLfkQAVNGx1c"
      }
    },
    {
      "cell_type": "code",
      "source": [
        "n = 20\n",
        "p = 3\n",
        "S_n = 0\n",
        "Serie_S_n = []\n",
        "Sequence_a_n = []\n",
        "for i in range(1, n + 1):\n",
        "  a_n = i**p\n",
        "  S_n += a_n\n",
        "  Serie_S_n.append(S_n)\n",
        "  Sequence_a_n.append(a_n)\n",
        "\n",
        "plt.plot(np.arange(1, n + 1),Serie_S_n, color='black',label='Serie_S_n')\n",
        "plt.plot(np.arange(1, n + 1),Sequence_a_n, color='red',label='Sequence_a_n')\n",
        "plt.legend()"
      ],
      "metadata": {
        "id": "j7EtiVSYG2E1",
        "colab": {
          "base_uri": "https://localhost:8080/",
          "height": 447
        },
        "outputId": "07a101d4-5931-4765-f151-56e88aeaaf39"
      },
      "execution_count": 50,
      "outputs": [
        {
          "output_type": "execute_result",
          "data": {
            "text/plain": [
              "<matplotlib.legend.Legend at 0x7899f9addb40>"
            ]
          },
          "metadata": {},
          "execution_count": 50
        },
        {
          "output_type": "display_data",
          "data": {
            "text/plain": [
              "<Figure size 640x480 with 1 Axes>"
            ],
            "image/png": "[encoded data removed]"
          },
          "metadata": {}
        }
      ]
    },
    {
      "cell_type": "code",
      "source": [
        "print(Sequence_a_n)"
      ],
      "metadata": {
        "colab": {
          "base_uri": "https://localhost:8080/"
        },
        "id": "Zbw5NHyLhMy3",
        "outputId": "000366aa-c76c-444e-9d3d-f8aebe7569b3"
      },
      "execution_count": 48,
      "outputs": [
        {
          "output_type": "stream",
          "name": "stdout",
          "text": [
            "[1, 8, 27, 64, 125, 216, 343, 512, 729, 1000, 1331, 1728, 2197, 2744, 3375, 4096, 4913, 5832, 6859, 8000]\n"
          ]
        }
      ]
    },
    {
      "cell_type": "code",
      "source": [
        "print(Serie_S_n)"
      ],
      "metadata": {
        "colab": {
          "base_uri": "https://localhost:8080/"
        },
        "id": "PPrQdkAIhM_T",
        "outputId": "f54aa978-e675-4b05-b763-0f381aaeaa61"
      },
      "execution_count": 49,
      "outputs": [
        {
          "output_type": "stream",
          "name": "stdout",
          "text": [
            "[1, 9, 36, 100, 225, 441, 784, 1296, 2025, 3025, 4356, 6084, 8281, 11025, 14400, 18496, 23409, 29241, 36100, 44100]\n"
          ]
        }
      ]
    }
  ]
}